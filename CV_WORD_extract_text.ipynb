{
  "nbformat": 4,
  "nbformat_minor": 0,
  "metadata": {
    "colab": {
      "provenance": [],
      "authorship_tag": "ABX9TyOsO+JnXlGVIRkZN6lhUT8Q",
      "include_colab_link": true
    },
    "kernelspec": {
      "name": "python3",
      "display_name": "Python 3"
    },
    "language_info": {
      "name": "python"
    }
  },
  "cells": [
    {
      "cell_type": "markdown",
      "metadata": {
        "id": "view-in-github",
        "colab_type": "text"
      },
      "source": [
        "<a href=\"https://colab.research.google.com/github/khalilbougrine/tp3/blob/main/CV_WORD_extract_text.ipynb\" target=\"_parent\"><img src=\"https://colab.research.google.com/assets/colab-badge.svg\" alt=\"Open In Colab\"/></a>"
      ]
    },
    {
      "cell_type": "code",
      "execution_count": 1,
      "metadata": {
        "colab": {
          "base_uri": "https://localhost:8080/"
        },
        "id": "WyhNV9R-4Qvq",
        "outputId": "38e7b8d1-2293-4477-e33d-e911c83047a5"
      },
      "outputs": [
        {
          "output_type": "stream",
          "name": "stdout",
          "text": [
            "Collecting python-docx\n",
            "  Downloading python_docx-1.1.2-py3-none-any.whl.metadata (2.0 kB)\n",
            "Requirement already satisfied: lxml>=3.1.0 in /usr/local/lib/python3.11/dist-packages (from python-docx) (5.3.2)\n",
            "Requirement already satisfied: typing-extensions>=4.9.0 in /usr/local/lib/python3.11/dist-packages (from python-docx) (4.13.2)\n",
            "Downloading python_docx-1.1.2-py3-none-any.whl (244 kB)\n",
            "\u001b[2K   \u001b[90m━━━━━━━━━━━━━━━━━━━━━━━━━━━━━━━━━━━━━━━━\u001b[0m \u001b[32m244.3/244.3 kB\u001b[0m \u001b[31m1.9 MB/s\u001b[0m eta \u001b[36m0:00:00\u001b[0m\n",
            "\u001b[?25hInstalling collected packages: python-docx\n",
            "Successfully installed python-docx-1.1.2\n"
          ]
        }
      ],
      "source": [
        "# Étape 1 : Installer la bibliothèque nécessaire\n",
        "!pip install python-docx"
      ]
    },
    {
      "cell_type": "code",
      "source": [
        "# Étape 2 : Import des modules\n",
        "from docx import Document\n",
        "from google.colab import files\n",
        "import re"
      ],
      "metadata": {
        "id": "kY14RtiL4aw0"
      },
      "execution_count": 2,
      "outputs": []
    },
    {
      "cell_type": "code",
      "source": [
        "# Étape 3 : Upload du fichier DOCX\n",
        "uploaded = files.upload()"
      ],
      "metadata": {
        "colab": {
          "base_uri": "https://localhost:8080/",
          "height": 71
        },
        "id": "vPxBhH3W4c8b",
        "outputId": "aa817b06-19b2-451a-c087-2f4a3d7e568b"
      },
      "execution_count": 3,
      "outputs": [
        {
          "output_type": "display_data",
          "data": {
            "text/plain": [
              "<IPython.core.display.HTML object>"
            ],
            "text/html": [
              "\n",
              "     <input type=\"file\" id=\"files-6f691290-0480-42bf-801e-a7232bc6d8ac\" name=\"files[]\" multiple disabled\n",
              "        style=\"border:none\" />\n",
              "     <output id=\"result-6f691290-0480-42bf-801e-a7232bc6d8ac\">\n",
              "      Upload widget is only available when the cell has been executed in the\n",
              "      current browser session. Please rerun this cell to enable.\n",
              "      </output>\n",
              "      <script>// Copyright 2017 Google LLC\n",
              "//\n",
              "// Licensed under the Apache License, Version 2.0 (the \"License\");\n",
              "// you may not use this file except in compliance with the License.\n",
              "// You may obtain a copy of the License at\n",
              "//\n",
              "//      http://www.apache.org/licenses/LICENSE-2.0\n",
              "//\n",
              "// Unless required by applicable law or agreed to in writing, software\n",
              "// distributed under the License is distributed on an \"AS IS\" BASIS,\n",
              "// WITHOUT WARRANTIES OR CONDITIONS OF ANY KIND, either express or implied.\n",
              "// See the License for the specific language governing permissions and\n",
              "// limitations under the License.\n",
              "\n",
              "/**\n",
              " * @fileoverview Helpers for google.colab Python module.\n",
              " */\n",
              "(function(scope) {\n",
              "function span(text, styleAttributes = {}) {\n",
              "  const element = document.createElement('span');\n",
              "  element.textContent = text;\n",
              "  for (const key of Object.keys(styleAttributes)) {\n",
              "    element.style[key] = styleAttributes[key];\n",
              "  }\n",
              "  return element;\n",
              "}\n",
              "\n",
              "// Max number of bytes which will be uploaded at a time.\n",
              "const MAX_PAYLOAD_SIZE = 100 * 1024;\n",
              "\n",
              "function _uploadFiles(inputId, outputId) {\n",
              "  const steps = uploadFilesStep(inputId, outputId);\n",
              "  const outputElement = document.getElementById(outputId);\n",
              "  // Cache steps on the outputElement to make it available for the next call\n",
              "  // to uploadFilesContinue from Python.\n",
              "  outputElement.steps = steps;\n",
              "\n",
              "  return _uploadFilesContinue(outputId);\n",
              "}\n",
              "\n",
              "// This is roughly an async generator (not supported in the browser yet),\n",
              "// where there are multiple asynchronous steps and the Python side is going\n",
              "// to poll for completion of each step.\n",
              "// This uses a Promise to block the python side on completion of each step,\n",
              "// then passes the result of the previous step as the input to the next step.\n",
              "function _uploadFilesContinue(outputId) {\n",
              "  const outputElement = document.getElementById(outputId);\n",
              "  const steps = outputElement.steps;\n",
              "\n",
              "  const next = steps.next(outputElement.lastPromiseValue);\n",
              "  return Promise.resolve(next.value.promise).then((value) => {\n",
              "    // Cache the last promise value to make it available to the next\n",
              "    // step of the generator.\n",
              "    outputElement.lastPromiseValue = value;\n",
              "    return next.value.response;\n",
              "  });\n",
              "}\n",
              "\n",
              "/**\n",
              " * Generator function which is called between each async step of the upload\n",
              " * process.\n",
              " * @param {string} inputId Element ID of the input file picker element.\n",
              " * @param {string} outputId Element ID of the output display.\n",
              " * @return {!Iterable<!Object>} Iterable of next steps.\n",
              " */\n",
              "function* uploadFilesStep(inputId, outputId) {\n",
              "  const inputElement = document.getElementById(inputId);\n",
              "  inputElement.disabled = false;\n",
              "\n",
              "  const outputElement = document.getElementById(outputId);\n",
              "  outputElement.innerHTML = '';\n",
              "\n",
              "  const pickedPromise = new Promise((resolve) => {\n",
              "    inputElement.addEventListener('change', (e) => {\n",
              "      resolve(e.target.files);\n",
              "    });\n",
              "  });\n",
              "\n",
              "  const cancel = document.createElement('button');\n",
              "  inputElement.parentElement.appendChild(cancel);\n",
              "  cancel.textContent = 'Cancel upload';\n",
              "  const cancelPromise = new Promise((resolve) => {\n",
              "    cancel.onclick = () => {\n",
              "      resolve(null);\n",
              "    };\n",
              "  });\n",
              "\n",
              "  // Wait for the user to pick the files.\n",
              "  const files = yield {\n",
              "    promise: Promise.race([pickedPromise, cancelPromise]),\n",
              "    response: {\n",
              "      action: 'starting',\n",
              "    }\n",
              "  };\n",
              "\n",
              "  cancel.remove();\n",
              "\n",
              "  // Disable the input element since further picks are not allowed.\n",
              "  inputElement.disabled = true;\n",
              "\n",
              "  if (!files) {\n",
              "    return {\n",
              "      response: {\n",
              "        action: 'complete',\n",
              "      }\n",
              "    };\n",
              "  }\n",
              "\n",
              "  for (const file of files) {\n",
              "    const li = document.createElement('li');\n",
              "    li.append(span(file.name, {fontWeight: 'bold'}));\n",
              "    li.append(span(\n",
              "        `(${file.type || 'n/a'}) - ${file.size} bytes, ` +\n",
              "        `last modified: ${\n",
              "            file.lastModifiedDate ? file.lastModifiedDate.toLocaleDateString() :\n",
              "                                    'n/a'} - `));\n",
              "    const percent = span('0% done');\n",
              "    li.appendChild(percent);\n",
              "\n",
              "    outputElement.appendChild(li);\n",
              "\n",
              "    const fileDataPromise = new Promise((resolve) => {\n",
              "      const reader = new FileReader();\n",
              "      reader.onload = (e) => {\n",
              "        resolve(e.target.result);\n",
              "      };\n",
              "      reader.readAsArrayBuffer(file);\n",
              "    });\n",
              "    // Wait for the data to be ready.\n",
              "    let fileData = yield {\n",
              "      promise: fileDataPromise,\n",
              "      response: {\n",
              "        action: 'continue',\n",
              "      }\n",
              "    };\n",
              "\n",
              "    // Use a chunked sending to avoid message size limits. See b/62115660.\n",
              "    let position = 0;\n",
              "    do {\n",
              "      const length = Math.min(fileData.byteLength - position, MAX_PAYLOAD_SIZE);\n",
              "      const chunk = new Uint8Array(fileData, position, length);\n",
              "      position += length;\n",
              "\n",
              "      const base64 = btoa(String.fromCharCode.apply(null, chunk));\n",
              "      yield {\n",
              "        response: {\n",
              "          action: 'append',\n",
              "          file: file.name,\n",
              "          data: base64,\n",
              "        },\n",
              "      };\n",
              "\n",
              "      let percentDone = fileData.byteLength === 0 ?\n",
              "          100 :\n",
              "          Math.round((position / fileData.byteLength) * 100);\n",
              "      percent.textContent = `${percentDone}% done`;\n",
              "\n",
              "    } while (position < fileData.byteLength);\n",
              "  }\n",
              "\n",
              "  // All done.\n",
              "  yield {\n",
              "    response: {\n",
              "      action: 'complete',\n",
              "    }\n",
              "  };\n",
              "}\n",
              "\n",
              "scope.google = scope.google || {};\n",
              "scope.google.colab = scope.google.colab || {};\n",
              "scope.google.colab._files = {\n",
              "  _uploadFiles,\n",
              "  _uploadFilesContinue,\n",
              "};\n",
              "})(self);\n",
              "</script> "
            ]
          },
          "metadata": {}
        },
        {
          "output_type": "stream",
          "name": "stdout",
          "text": [
            "Saving CV-KHALIL-BOUGRINE.docx to CV-KHALIL-BOUGRINE.docx\n"
          ]
        }
      ]
    },
    {
      "cell_type": "code",
      "source": [
        "# Étape 4 : Fonction d’extraction depuis Word\n",
        "def extract_text_from_docx(path):\n",
        "    doc = Document(path)\n",
        "    full_text = '\\n'.join([para.text for para in doc.paragraphs])\n",
        "\n",
        "    # Nettoyage du texte\n",
        "    cleaned_text = re.sub(r'\\n{2,}', '\\n', full_text)\n",
        "    cleaned_text = re.sub(r'[ \\t]{2,}', ' ', cleaned_text)\n",
        "    return cleaned_text.strip()"
      ],
      "metadata": {
        "id": "UMPZTZIb4hJu"
      },
      "execution_count": 4,
      "outputs": []
    },
    {
      "cell_type": "code",
      "source": [
        "# Étape 5 : Extraction et affichage\n",
        "for file_name in uploaded.keys():\n",
        "    print(f\"\\n📄 Texte extrait de : {file_name}\\n\")\n",
        "    texte_docx = extract_text_from_docx(file_name)\n",
        "    print(texte_docx[:3000])  # Affiche les 3000 premiers caractères"
      ],
      "metadata": {
        "colab": {
          "base_uri": "https://localhost:8080/"
        },
        "id": "vZKG-7A-4lTt",
        "outputId": "7f3241c9-0a95-49dd-849d-2f28f10d4d31"
      },
      "execution_count": 5,
      "outputs": [
        {
          "output_type": "stream",
          "name": "stdout",
          "text": [
            "\n",
            "📄 Texte extrait de : CV-KHALIL-BOUGRINE.docx\n",
            "\n",
            "CONTACT\n",
            "khalilbg461@gmail.com +212 6 11 41 98 98 https://www.linkedin.com/in/ khalil-bougrine-8984ba297/\n",
            "Rabat , Maroc\n",
            "COMPÉTENCES\n",
            "Java \n",
            "Spring / SpringBoot\n",
            "Angular - HTML - CSS\n",
            "Git - GitHub\n",
            "SQL\n",
            "SQL Server\n",
            "Scrum \n",
            "UML - Merise LANGUES \n",
            "Francais : Trés bon niveau\n",
            "Anglais : Bon niveau\n",
            "FORMATION\n",
            "École Marocaine des Sciences de l'Ingénieur (EMSI)\n",
            "2020 -2025\n",
            "Cycle Ingénieur - Génie\n",
            "Informatique (2022 - 2025)\n",
            "Cycle Préparatoire Intégré (2020\n",
            "- 2022) Diplôme d’Ingénieur prévu en septembre 2025\n",
            "Baccalauréat - Lycée Saladin Al\n",
            "Ayoubi\n",
            "2019-2020\n",
            "Baccalauréat Sciences physiques Mention Bien\n",
            "CENTRES D'INTÉRÊT\n",
            "Sport\n",
            "Jeux Vidéos\n",
            "Randonnées\n",
            "KHALIL BOUGRINE\n",
            "Étudiant en cinquième année d’ingénierie informatique et réseau à l’EMSI Rabat, passionné par le développement et les nouvelles technologies. À la recherche d’un stage de fin d’études pour renforcer mes compétences et contribuer à une équipe innovante. Motivé et prêt à relever de nouveaux défis. \n",
            "EXPÉRIENCE PROFESSIONEL\n",
            "CDG - RABAT , MAROC (STAGE PFA ) juin 2024 - août 2024\n",
            "Conception et développement d'une application de gestion de retraite en utilisant Angular et Spring Boot.\n",
            "Création des interfaces utilisateur et intégration avec le backend. Implémentation des fonctionnalités principales : soumission et gestion des demandes de retraite, recherche et modification des informations utilisateur, gestion des rôles et des accès.\n",
            "Analyse et correction des anomalies.\n",
            "Stockage et gestion des données avec SQL Server.\n",
            " Technologies : Angular, HTML, CSS, Bootstrap, Spring Boot, Java, Hibernate, SQL Server, Git, Postman.\n",
            "ONCF - DÉPARTEMENT FRETNET ET LOGISTIQUE, RABAT, (STAGE D'ÉTÉ) juin 2023 - août 2023 \n",
            "Automatisation du traitement des données à partir d’une base Excel en développant une application web.\n",
            "Création d’une interface web permettant aux administrateurs de se connecter et d’effectuer des recherches avancées avec filtres pour une analyse plus précise des données.\n",
            "Intégration et transformation des données Excel dans l’interface d’administration de Django.\n",
            "Développement du backend avec Django pour gérer l'authentification et la récupération des données.\n",
            "Implémentation du frontend en HTML, CSS et JavaScript pour une interface interactive et conviviale.\n",
            "Technologies : Django, Python, HTML, CSS, JavaScript, SQLite, Git.\n",
            "PROJETS ACADÉMIQUES :\n",
            "Conception et développement d'un site de réservation d'hôtel.\n",
            "Technologies : Spring Boot, Angular, SQL Server, Git, GitHub.\n",
            "Création d'un site e-commerce pour la vente de repas.\n",
            "Technologies : Django, HTML, CSS, JavaScript, SQLite, Git, GitHub.\n",
            "CERTIFICATION :\n",
            "Software Engineering (The Hong Kong University of Science and\n",
            "Technology)\n",
            "Java Fullstack Developer Specialization (Board Infinity)\n",
            " Python For Everybody (University of Michigan)\n",
            " Introduction to Java and Object-Oriented Programming (University of\n",
            "Pennsylvania) \n",
            "Introduction to Git and Github (Google)\n"
          ]
        }
      ]
    }
  ]
}